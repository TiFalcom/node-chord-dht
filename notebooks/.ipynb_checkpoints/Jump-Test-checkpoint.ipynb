{
 "cells": [
  {
   "cell_type": "markdown",
   "id": "2f7bac0f-43a6-466c-b75d-bfa1642a60c8",
   "metadata": {},
   "source": [
    "# Imports"
   ]
  },
  {
   "cell_type": "code",
   "execution_count": 1,
   "id": "cd9d0ccc-eb5a-4f80-888e-b9688e1c59b0",
   "metadata": {
    "tags": []
   },
   "outputs": [],
   "source": [
    "import pandas as pd\n",
    "from pathlib import Path\n",
    "import sys\n",
    "import os\n",
    "import seaborn as sns\n",
    "\n",
    "project_dir = Path('__main__').resolve().parents[1]\n",
    "sys.path.append(f'{project_dir}/')\n",
    "\n",
    "from src.node import Node, Status"
   ]
  },
  {
   "cell_type": "markdown",
   "id": "2508c903-f9bb-4ebc-a6bf-f11e8a39301e",
   "metadata": {},
   "source": [
    "# Build Ring"
   ]
  },
  {
   "cell_type": "code",
   "execution_count": 2,
   "id": "51af4afd-269e-4151-9dcb-9cf1f724737c",
   "metadata": {
    "tags": []
   },
   "outputs": [],
   "source": [
    "def build_ring(n):\n",
    "    nodes = []\n",
    "\n",
    "    for index in range(n):\n",
    "        nodes.append(Node({'a' : ['oi']}, index))\n",
    "\n",
    "    for index, node in enumerate(nodes):\n",
    "        node.set_finger_table(nodes[index+1:], 5, n)\n",
    "        if index == len(nodes)-1:\n",
    "            node.set_next_node(0)\n",
    "        else:\n",
    "            node.set_next_node(index+1)\n",
    "    \n",
    "    return nodes"
   ]
  },
  {
   "cell_type": "markdown",
   "id": "1f9235af-c5b3-49ea-8b3e-acbb8037c3d1",
   "metadata": {},
   "source": [
    "# Find Node"
   ]
  },
  {
   "cell_type": "code",
   "execution_count": 3,
   "id": "0c1fb947-f38c-4dd7-bfbf-7b4c955b6ca9",
   "metadata": {
    "tags": []
   },
   "outputs": [],
   "source": [
    "def find_node(x, y, nodes, status):\n",
    "    return nodes[x].find_node_jump(y, nodes, 1, status)"
   ]
  },
  {
   "cell_type": "markdown",
   "id": "09419f20-676d-4a7c-b91c-9f9b7070222f",
   "metadata": {},
   "source": [
    "# Import Data"
   ]
  },
  {
   "cell_type": "code",
   "execution_count": 4,
   "id": "d6800fea-6f66-493b-92c7-b7395e12e72a",
   "metadata": {
    "tags": []
   },
   "outputs": [],
   "source": [
    "def read_random_data(n):\n",
    "    df = pd.read_csv(os.path.join(project_dir, 'data', 'aleatorios', f'aleatorio_0_{n-1}', f'0_{n-1}.csv'), delimiter=';')\n",
    "    df['distance'] = df['destino'] - df['origem']\n",
    "    return df"
   ]
  },
  {
   "cell_type": "markdown",
   "id": "eb14295c-60f1-433a-ad86-6d09805a5369",
   "metadata": {},
   "source": [
    "# Test"
   ]
  },
  {
   "cell_type": "code",
   "execution_count": 5,
   "id": "43872888-c854-4ea4-a59d-e1c6629331d1",
   "metadata": {
    "tags": []
   },
   "outputs": [],
   "source": [
    "nodes = build_ring(1000)"
   ]
  },
  {
   "cell_type": "code",
   "execution_count": 6,
   "id": "10d9392e-ac63-4a25-85ea-e0d511e34f9f",
   "metadata": {
    "tags": []
   },
   "outputs": [],
   "source": [
    "df = read_random_data(1000)"
   ]
  },
  {
   "cell_type": "code",
   "execution_count": 7,
   "id": "d49e6fb0-70f4-431a-8945-b1e947c57043",
   "metadata": {
    "tags": []
   },
   "outputs": [],
   "source": [
    "def steps_calc(status, df):\n",
    "    df[f'STEPS_{status}'] = 0\n",
    "    for index, row in df.iterrows():\n",
    "        steps = find_node(row['origem'], row['destino'], nodes, Status.FULL_JUMP)\n",
    "        df.loc[index, f'STEPS_{status}'] = steps"
   ]
  },
  {
   "cell_type": "code",
   "execution_count": 8,
   "id": "4a28908f-6659-416a-92f4-1b6555259059",
   "metadata": {
    "tags": []
   },
   "outputs": [
    {
     "name": "stdout",
     "output_type": "stream",
     "text": [
      "{1: 799, 2: 800, 4: 802, 8: 806, 16: 814}\n",
      "{1: 815, 2: 816, 4: 818, 8: 822, 16: 830}\n",
      "{1: 831, 2: 832, 4: 834, 8: 838, 16: 846}\n",
      "{1: 847, 2: 848, 4: 850, 8: 854, 16: 862}\n",
      "{1: 863, 2: 864, 4: 866, 8: 870, 16: 878}\n",
      "{1: 879, 2: 880, 4: 882, 8: 886, 16: 894}\n",
      "{1: 895, 2: 896, 4: 898, 8: 902, 16: 910}\n",
      "{1: 911, 2: 912, 4: 914, 8: 918, 16: 926}\n",
      "{1: 927, 2: 928, 4: 930, 8: 934, 16: 942}\n",
      "{1: 943, 2: 944, 4: 946, 8: 950, 16: 958}\n",
      "{1: 959, 2: 960, 4: 962, 8: 966, 16: 974}\n",
      "{1: 975, 2: 976, 4: 978, 8: 982, 16: 990}\n",
      "{1: 991, 2: 992, 4: 994, 8: 998, 16: None}\n"
     ]
    },
    {
     "ename": "TypeError",
     "evalue": "'>' not supported between instances of 'NoneType' and 'int'",
     "output_type": "error",
     "traceback": [
      "\u001b[1;31m---------------------------------------------------------------------------\u001b[0m",
      "\u001b[1;31mTypeError\u001b[0m                                 Traceback (most recent call last)",
      "Cell \u001b[1;32mIn[8], line 2\u001b[0m\n\u001b[0;32m      1\u001b[0m \u001b[38;5;28;01mfor\u001b[39;00m i \u001b[38;5;129;01min\u001b[39;00m Status:\n\u001b[1;32m----> 2\u001b[0m     steps_calc(i, df)\n",
      "Cell \u001b[1;32mIn[7], line 4\u001b[0m, in \u001b[0;36msteps_calc\u001b[1;34m(status, df)\u001b[0m\n\u001b[0;32m      2\u001b[0m df[\u001b[38;5;124mf\u001b[39m\u001b[38;5;124m'\u001b[39m\u001b[38;5;124mSTEPS_\u001b[39m\u001b[38;5;132;01m{\u001b[39;00mstatus\u001b[38;5;132;01m}\u001b[39;00m\u001b[38;5;124m'\u001b[39m] \u001b[38;5;241m=\u001b[39m \u001b[38;5;241m0\u001b[39m\n\u001b[0;32m      3\u001b[0m \u001b[38;5;28;01mfor\u001b[39;00m index, row \u001b[38;5;129;01min\u001b[39;00m df\u001b[38;5;241m.\u001b[39miterrows():\n\u001b[1;32m----> 4\u001b[0m     steps \u001b[38;5;241m=\u001b[39m find_node(row[\u001b[38;5;124m'\u001b[39m\u001b[38;5;124morigem\u001b[39m\u001b[38;5;124m'\u001b[39m], row[\u001b[38;5;124m'\u001b[39m\u001b[38;5;124mdestino\u001b[39m\u001b[38;5;124m'\u001b[39m], nodes, Status\u001b[38;5;241m.\u001b[39mFULL_JUMP)\n\u001b[0;32m      5\u001b[0m     df\u001b[38;5;241m.\u001b[39mloc[index, \u001b[38;5;124mf\u001b[39m\u001b[38;5;124m'\u001b[39m\u001b[38;5;124mSTEPS_\u001b[39m\u001b[38;5;132;01m{\u001b[39;00mstatus\u001b[38;5;132;01m}\u001b[39;00m\u001b[38;5;124m'\u001b[39m] \u001b[38;5;241m=\u001b[39m steps\n",
      "Cell \u001b[1;32mIn[3], line 2\u001b[0m, in \u001b[0;36mfind_node\u001b[1;34m(x, y, nodes, status)\u001b[0m\n\u001b[0;32m      1\u001b[0m \u001b[38;5;28;01mdef\u001b[39;00m \u001b[38;5;21mfind_node\u001b[39m(x, y, nodes, status):\n\u001b[1;32m----> 2\u001b[0m     \u001b[38;5;28;01mreturn\u001b[39;00m nodes[x]\u001b[38;5;241m.\u001b[39mfind_node_jump(y, nodes, \u001b[38;5;241m1\u001b[39m, status)\n",
      "File \u001b[1;32m~\\OneDrive\\UFABC\\AED2\\node-chord-dht\\src\\node.py:49\u001b[0m, in \u001b[0;36mNode.find_node_jump\u001b[1;34m(self, key, nodes, steps, mode)\u001b[0m\n\u001b[0;32m     47\u001b[0m \u001b[38;5;28;01melse\u001b[39;00m:\n\u001b[0;32m     48\u001b[0m     \u001b[38;5;28;01mif\u001b[39;00m node_key \u001b[38;5;241m==\u001b[39m \u001b[38;5;28;01mNone\u001b[39;00m:\n\u001b[1;32m---> 49\u001b[0m         \u001b[38;5;28;01mreturn\u001b[39;00m nodes[\u001b[38;5;28mmax\u001b[39m(\u001b[38;5;28mself\u001b[39m\u001b[38;5;241m.\u001b[39mfinger_table\u001b[38;5;241m.\u001b[39mfinger_table\u001b[38;5;241m.\u001b[39mvalues())]\u001b[38;5;241m.\u001b[39mfind_node_jump(key, nodes, steps\u001b[38;5;241m+\u001b[39m\u001b[38;5;241m1\u001b[39m, mode)\n\u001b[0;32m     50\u001b[0m     \u001b[38;5;28;01mreturn\u001b[39;00m nodes[node_key]\u001b[38;5;241m.\u001b[39mfind_node_jump(key, nodes, steps\u001b[38;5;241m+\u001b[39m\u001b[38;5;241m1\u001b[39m, mode)\n",
      "File \u001b[1;32m~\\OneDrive\\UFABC\\AED2\\node-chord-dht\\src\\node.py:49\u001b[0m, in \u001b[0;36mNode.find_node_jump\u001b[1;34m(self, key, nodes, steps, mode)\u001b[0m\n\u001b[0;32m     47\u001b[0m \u001b[38;5;28;01melse\u001b[39;00m:\n\u001b[0;32m     48\u001b[0m     \u001b[38;5;28;01mif\u001b[39;00m node_key \u001b[38;5;241m==\u001b[39m \u001b[38;5;28;01mNone\u001b[39;00m:\n\u001b[1;32m---> 49\u001b[0m         \u001b[38;5;28;01mreturn\u001b[39;00m nodes[\u001b[38;5;28mmax\u001b[39m(\u001b[38;5;28mself\u001b[39m\u001b[38;5;241m.\u001b[39mfinger_table\u001b[38;5;241m.\u001b[39mfinger_table\u001b[38;5;241m.\u001b[39mvalues())]\u001b[38;5;241m.\u001b[39mfind_node_jump(key, nodes, steps\u001b[38;5;241m+\u001b[39m\u001b[38;5;241m1\u001b[39m, mode)\n\u001b[0;32m     50\u001b[0m     \u001b[38;5;28;01mreturn\u001b[39;00m nodes[node_key]\u001b[38;5;241m.\u001b[39mfind_node_jump(key, nodes, steps\u001b[38;5;241m+\u001b[39m\u001b[38;5;241m1\u001b[39m, mode)\n",
      "    \u001b[1;31m[... skipping similar frames: Node.find_node_jump at line 49 (10 times)]\u001b[0m\n",
      "File \u001b[1;32m~\\OneDrive\\UFABC\\AED2\\node-chord-dht\\src\\node.py:49\u001b[0m, in \u001b[0;36mNode.find_node_jump\u001b[1;34m(self, key, nodes, steps, mode)\u001b[0m\n\u001b[0;32m     47\u001b[0m \u001b[38;5;28;01melse\u001b[39;00m:\n\u001b[0;32m     48\u001b[0m     \u001b[38;5;28;01mif\u001b[39;00m node_key \u001b[38;5;241m==\u001b[39m \u001b[38;5;28;01mNone\u001b[39;00m:\n\u001b[1;32m---> 49\u001b[0m         \u001b[38;5;28;01mreturn\u001b[39;00m nodes[\u001b[38;5;28mmax\u001b[39m(\u001b[38;5;28mself\u001b[39m\u001b[38;5;241m.\u001b[39mfinger_table\u001b[38;5;241m.\u001b[39mfinger_table\u001b[38;5;241m.\u001b[39mvalues())]\u001b[38;5;241m.\u001b[39mfind_node_jump(key, nodes, steps\u001b[38;5;241m+\u001b[39m\u001b[38;5;241m1\u001b[39m, mode)\n\u001b[0;32m     50\u001b[0m     \u001b[38;5;28;01mreturn\u001b[39;00m nodes[node_key]\u001b[38;5;241m.\u001b[39mfind_node_jump(key, nodes, steps\u001b[38;5;241m+\u001b[39m\u001b[38;5;241m1\u001b[39m, mode)\n",
      "\u001b[1;31mTypeError\u001b[0m: '>' not supported between instances of 'NoneType' and 'int'"
     ]
    }
   ],
   "source": [
    "for i in Status:\n",
    "    steps_calc(i, df)"
   ]
  },
  {
   "cell_type": "code",
   "execution_count": 59,
   "id": "89c84509-bfe3-43d5-90d9-99a015f24d86",
   "metadata": {
    "tags": []
   },
   "outputs": [
    {
     "data": {
      "text/html": [
       "<div>\n",
       "<style scoped>\n",
       "    .dataframe tbody tr th:only-of-type {\n",
       "        vertical-align: middle;\n",
       "    }\n",
       "\n",
       "    .dataframe tbody tr th {\n",
       "        vertical-align: top;\n",
       "    }\n",
       "\n",
       "    .dataframe thead th {\n",
       "        text-align: right;\n",
       "    }\n",
       "</style>\n",
       "<table border=\"1\" class=\"dataframe\">\n",
       "  <thead>\n",
       "    <tr style=\"text-align: right;\">\n",
       "      <th></th>\n",
       "      <th>origem</th>\n",
       "      <th>destino</th>\n",
       "      <th>distance</th>\n",
       "      <th>STEPS_Status.FULL_JUMP</th>\n",
       "      <th>STEPS_Status.SINGLE_JUMP</th>\n",
       "      <th>STEPS_Status.SEQUENTIAL</th>\n",
       "    </tr>\n",
       "  </thead>\n",
       "  <tbody>\n",
       "    <tr>\n",
       "      <th>0</th>\n",
       "      <td>798</td>\n",
       "      <td>781</td>\n",
       "      <td>-17</td>\n",
       "      <td>984</td>\n",
       "      <td>984</td>\n",
       "      <td>984</td>\n",
       "    </tr>\n",
       "    <tr>\n",
       "      <th>1</th>\n",
       "      <td>535</td>\n",
       "      <td>46</td>\n",
       "      <td>-489</td>\n",
       "      <td>512</td>\n",
       "      <td>512</td>\n",
       "      <td>512</td>\n",
       "    </tr>\n",
       "    <tr>\n",
       "      <th>2</th>\n",
       "      <td>188</td>\n",
       "      <td>200</td>\n",
       "      <td>12</td>\n",
       "      <td>2</td>\n",
       "      <td>2</td>\n",
       "      <td>2</td>\n",
       "    </tr>\n",
       "    <tr>\n",
       "      <th>3</th>\n",
       "      <td>118</td>\n",
       "      <td>408</td>\n",
       "      <td>290</td>\n",
       "      <td>19</td>\n",
       "      <td>19</td>\n",
       "      <td>19</td>\n",
       "    </tr>\n",
       "    <tr>\n",
       "      <th>4</th>\n",
       "      <td>677</td>\n",
       "      <td>343</td>\n",
       "      <td>-334</td>\n",
       "      <td>667</td>\n",
       "      <td>667</td>\n",
       "      <td>667</td>\n",
       "    </tr>\n",
       "  </tbody>\n",
       "</table>\n",
       "</div>"
      ],
      "text/plain": [
       "   origem  destino  distance  STEPS_Status.FULL_JUMP  \\\n",
       "0     798      781       -17                     984   \n",
       "1     535       46      -489                     512   \n",
       "2     188      200        12                       2   \n",
       "3     118      408       290                      19   \n",
       "4     677      343      -334                     667   \n",
       "\n",
       "   STEPS_Status.SINGLE_JUMP  STEPS_Status.SEQUENTIAL  \n",
       "0                       984                      984  \n",
       "1                       512                      512  \n",
       "2                         2                        2  \n",
       "3                        19                       19  \n",
       "4                       667                      667  "
      ]
     },
     "execution_count": 59,
     "metadata": {},
     "output_type": "execute_result"
    }
   ],
   "source": [
    "df.head()"
   ]
  },
  {
   "cell_type": "code",
   "execution_count": null,
   "id": "f90ce735-e02d-4ede-ab88-49c687ec0ef7",
   "metadata": {},
   "outputs": [],
   "source": []
  }
 ],
 "metadata": {
  "kernelspec": {
   "display_name": "Python 3 (ipykernel)",
   "language": "python",
   "name": "python3"
  },
  "language_info": {
   "codemirror_mode": {
    "name": "ipython",
    "version": 3
   },
   "file_extension": ".py",
   "mimetype": "text/x-python",
   "name": "python",
   "nbconvert_exporter": "python",
   "pygments_lexer": "ipython3",
   "version": "3.11.5"
  }
 },
 "nbformat": 4,
 "nbformat_minor": 5
}
